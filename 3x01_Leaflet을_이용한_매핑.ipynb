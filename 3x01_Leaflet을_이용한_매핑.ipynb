{
 "cells": [
  {
   "cell_type": "code",
   "execution_count": 1,
   "metadata": {},
   "outputs": [],
   "source": [
    "# Jupyter Notebook에서 대화형 지도를 사용할 수 있는 Jupyter/Leaflet 브리지\n",
    "# ipyleaflet 깃허브: https://github.com/jupyter-widgets/ipyleaflet\n",
    "# ipyleaflet Read the Docs: https://ipyleaflet.readthedocs.io/en/latest/\n",
    "from ipyleaflet import *"
   ]
  },
  {
   "cell_type": "code",
   "execution_count": 2,
   "metadata": {},
   "outputs": [
    {
     "name": "stdout",
     "output_type": "stream",
     "text": [
      "Requirement already satisfied: ipyleaflet in c:\\users\\bhyu\\appdata\\local\\programs\\python\\python35\\lib\\site-packages (0.13.3)\n",
      "Requirement already satisfied: ipywidgets<8,>=7.5.0 in c:\\users\\bhyu\\appdata\\local\\programs\\python\\python35\\lib\\site-packages (from ipyleaflet) (7.5.1)\n",
      "Requirement already satisfied: traittypes<3,>=0.2.1 in c:\\users\\bhyu\\appdata\\local\\programs\\python\\python35\\lib\\site-packages (from ipyleaflet) (0.2.1)\n",
      "Requirement already satisfied: branca<0.5,>=0.3.1 in c:\\users\\bhyu\\appdata\\local\\programs\\python\\python35\\lib\\site-packages (from ipyleaflet) (0.4.1)\n",
      "Requirement already satisfied: ipython>=4.0.0; python_version >= \"3.3\" in c:\\users\\bhyu\\appdata\\local\\programs\\python\\python35\\lib\\site-packages (from ipywidgets<8,>=7.5.0->ipyleaflet) (7.9.0)\n",
      "Requirement already satisfied: ipykernel>=4.5.1 in c:\\users\\bhyu\\appdata\\local\\programs\\python\\python35\\lib\\site-packages (from ipywidgets<8,>=7.5.0->ipyleaflet) (5.3.4)\n",
      "Requirement already satisfied: widgetsnbextension~=3.5.0 in c:\\users\\bhyu\\appdata\\local\\programs\\python\\python35\\lib\\site-packages (from ipywidgets<8,>=7.5.0->ipyleaflet) (3.5.1)\n",
      "Requirement already satisfied: traitlets>=4.3.1 in c:\\users\\bhyu\\appdata\\local\\programs\\python\\python35\\lib\\site-packages (from ipywidgets<8,>=7.5.0->ipyleaflet) (4.3.3)\n",
      "Requirement already satisfied: nbformat>=4.2.0 in c:\\users\\bhyu\\appdata\\local\\programs\\python\\python35\\lib\\site-packages (from ipywidgets<8,>=7.5.0->ipyleaflet) (5.0.7)\n",
      "Requirement already satisfied: jinja2 in c:\\users\\bhyu\\appdata\\local\\programs\\python\\python35\\lib\\site-packages (from branca<0.5,>=0.3.1->ipyleaflet) (2.11.2)\n",
      "Requirement already satisfied: prompt-toolkit<2.1.0,>=2.0.0 in c:\\users\\bhyu\\appdata\\local\\programs\\python\\python35\\lib\\site-packages (from ipython>=4.0.0; python_version >= \"3.3\"->ipywidgets<8,>=7.5.0->ipyleaflet) (2.0.10)\n",
      "Requirement already satisfied: decorator in c:\\users\\bhyu\\appdata\\local\\programs\\python\\python35\\lib\\site-packages (from ipython>=4.0.0; python_version >= \"3.3\"->ipywidgets<8,>=7.5.0->ipyleaflet) (4.4.2)\n",
      "Requirement already satisfied: jedi>=0.10 in c:\\users\\bhyu\\appdata\\local\\programs\\python\\python35\\lib\\site-packages (from ipython>=4.0.0; python_version >= \"3.3\"->ipywidgets<8,>=7.5.0->ipyleaflet) (0.17.2)\n",
      "Requirement already satisfied: pygments in c:\\users\\bhyu\\appdata\\local\\programs\\python\\python35\\lib\\site-packages (from ipython>=4.0.0; python_version >= \"3.3\"->ipywidgets<8,>=7.5.0->ipyleaflet) (2.6.1)\n",
      "Requirement already satisfied: setuptools>=18.5 in c:\\users\\bhyu\\appdata\\local\\programs\\python\\python35\\lib\\site-packages (from ipython>=4.0.0; python_version >= \"3.3\"->ipywidgets<8,>=7.5.0->ipyleaflet) (28.8.0)\n",
      "Requirement already satisfied: win-unicode-console>=0.5; sys_platform == \"win32\" and python_version < \"3.6\" in c:\\users\\bhyu\\appdata\\local\\programs\\python\\python35\\lib\\site-packages (from ipython>=4.0.0; python_version >= \"3.3\"->ipywidgets<8,>=7.5.0->ipyleaflet) (0.5)\n",
      "Requirement already satisfied: backcall in c:\\users\\bhyu\\appdata\\local\\programs\\python\\python35\\lib\\site-packages (from ipython>=4.0.0; python_version >= \"3.3\"->ipywidgets<8,>=7.5.0->ipyleaflet) (0.2.0)\n",
      "Requirement already satisfied: colorama; sys_platform == \"win32\" in c:\\users\\bhyu\\appdata\\local\\programs\\python\\python35\\lib\\site-packages (from ipython>=4.0.0; python_version >= \"3.3\"->ipywidgets<8,>=7.5.0->ipyleaflet) (0.4.3)\n",
      "Requirement already satisfied: pickleshare in c:\\users\\bhyu\\appdata\\local\\programs\\python\\python35\\lib\\site-packages (from ipython>=4.0.0; python_version >= \"3.3\"->ipywidgets<8,>=7.5.0->ipyleaflet) (0.7.5)\n",
      "Requirement already satisfied: jupyter-client in c:\\users\\bhyu\\appdata\\local\\programs\\python\\python35\\lib\\site-packages (from ipykernel>=4.5.1->ipywidgets<8,>=7.5.0->ipyleaflet) (6.1.6)\n",
      "Requirement already satisfied: tornado>=4.2 in c:\\users\\bhyu\\appdata\\local\\programs\\python\\python35\\lib\\site-packages (from ipykernel>=4.5.1->ipywidgets<8,>=7.5.0->ipyleaflet) (6.0.4)\n",
      "Requirement already satisfied: notebook>=4.4.1 in c:\\users\\bhyu\\appdata\\local\\programs\\python\\python35\\lib\\site-packages (from widgetsnbextension~=3.5.0->ipywidgets<8,>=7.5.0->ipyleaflet) (6.1.1)\n",
      "Requirement already satisfied: six in c:\\users\\bhyu\\appdata\\local\\programs\\python\\python35\\lib\\site-packages (from traitlets>=4.3.1->ipywidgets<8,>=7.5.0->ipyleaflet) (1.15.0)\n",
      "Requirement already satisfied: ipython-genutils in c:\\users\\bhyu\\appdata\\local\\programs\\python\\python35\\lib\\site-packages (from traitlets>=4.3.1->ipywidgets<8,>=7.5.0->ipyleaflet) (0.2.0)\n",
      "Requirement already satisfied: jupyter-core in c:\\users\\bhyu\\appdata\\local\\programs\\python\\python35\\lib\\site-packages (from nbformat>=4.2.0->ipywidgets<8,>=7.5.0->ipyleaflet) (4.6.3)\n",
      "Requirement already satisfied: jsonschema!=2.5.0,>=2.4 in c:\\users\\bhyu\\appdata\\local\\programs\\python\\python35\\lib\\site-packages (from nbformat>=4.2.0->ipywidgets<8,>=7.5.0->ipyleaflet) (3.2.0)\n",
      "Requirement already satisfied: MarkupSafe>=0.23 in c:\\users\\bhyu\\appdata\\local\\programs\\python\\python35\\lib\\site-packages (from jinja2->branca<0.5,>=0.3.1->ipyleaflet) (1.1.1)\n",
      "Requirement already satisfied: wcwidth in c:\\users\\bhyu\\appdata\\local\\programs\\python\\python35\\lib\\site-packages (from prompt-toolkit<2.1.0,>=2.0.0->ipython>=4.0.0; python_version >= \"3.3\"->ipywidgets<8,>=7.5.0->ipyleaflet) (0.2.5)\n",
      "Requirement already satisfied: parso<0.8.0,>=0.7.0 in c:\\users\\bhyu\\appdata\\local\\programs\\python\\python35\\lib\\site-packages (from jedi>=0.10->ipython>=4.0.0; python_version >= \"3.3\"->ipywidgets<8,>=7.5.0->ipyleaflet) (0.7.1)\n",
      "Requirement already satisfied: pyzmq>=13 in c:\\users\\bhyu\\appdata\\local\\programs\\python\\python35\\lib\\site-packages (from jupyter-client->ipykernel>=4.5.1->ipywidgets<8,>=7.5.0->ipyleaflet) (19.0.2)\n",
      "Requirement already satisfied: python-dateutil>=2.1 in c:\\users\\bhyu\\appdata\\local\\programs\\python\\python35\\lib\\site-packages (from jupyter-client->ipykernel>=4.5.1->ipywidgets<8,>=7.5.0->ipyleaflet) (2.8.1)\n",
      "Requirement already satisfied: nbconvert in c:\\users\\bhyu\\appdata\\local\\programs\\python\\python35\\lib\\site-packages (from notebook>=4.4.1->widgetsnbextension~=3.5.0->ipywidgets<8,>=7.5.0->ipyleaflet) (5.6.1)\n",
      "Requirement already satisfied: prometheus-client in c:\\users\\bhyu\\appdata\\local\\programs\\python\\python35\\lib\\site-packages (from notebook>=4.4.1->widgetsnbextension~=3.5.0->ipywidgets<8,>=7.5.0->ipyleaflet) (0.8.0)\n",
      "Requirement already satisfied: Send2Trash in c:\\users\\bhyu\\appdata\\local\\programs\\python\\python35\\lib\\site-packages (from notebook>=4.4.1->widgetsnbextension~=3.5.0->ipywidgets<8,>=7.5.0->ipyleaflet) (1.5.0)\n",
      "Requirement already satisfied: terminado>=0.8.3 in c:\\users\\bhyu\\appdata\\local\\programs\\python\\python35\\lib\\site-packages (from notebook>=4.4.1->widgetsnbextension~=3.5.0->ipywidgets<8,>=7.5.0->ipyleaflet) (0.8.3)\n",
      "Requirement already satisfied: argon2-cffi in c:\\users\\bhyu\\appdata\\local\\programs\\python\\python35\\lib\\site-packages (from notebook>=4.4.1->widgetsnbextension~=3.5.0->ipywidgets<8,>=7.5.0->ipyleaflet) (20.1.0)\n",
      "Requirement already satisfied: pywin32>=1.0; sys_platform == \"win32\" in c:\\users\\bhyu\\appdata\\local\\programs\\python\\python35\\lib\\site-packages (from jupyter-core->nbformat>=4.2.0->ipywidgets<8,>=7.5.0->ipyleaflet) (228)\n",
      "Requirement already satisfied: attrs>=17.4.0 in c:\\users\\bhyu\\appdata\\local\\programs\\python\\python35\\lib\\site-packages (from jsonschema!=2.5.0,>=2.4->nbformat>=4.2.0->ipywidgets<8,>=7.5.0->ipyleaflet) (19.3.0)\n",
      "Requirement already satisfied: importlib-metadata; python_version < \"3.8\" in c:\\users\\bhyu\\appdata\\local\\programs\\python\\python35\\lib\\site-packages (from jsonschema!=2.5.0,>=2.4->nbformat>=4.2.0->ipywidgets<8,>=7.5.0->ipyleaflet) (1.7.0)\n",
      "Requirement already satisfied: pyrsistent>=0.14.0 in c:\\users\\bhyu\\appdata\\local\\programs\\python\\python35\\lib\\site-packages (from jsonschema!=2.5.0,>=2.4->nbformat>=4.2.0->ipywidgets<8,>=7.5.0->ipyleaflet) (0.16.0)\n",
      "Requirement already satisfied: pandocfilters>=1.4.1 in c:\\users\\bhyu\\appdata\\local\\programs\\python\\python35\\lib\\site-packages (from nbconvert->notebook>=4.4.1->widgetsnbextension~=3.5.0->ipywidgets<8,>=7.5.0->ipyleaflet) (1.4.2)\n",
      "Requirement already satisfied: mistune<2,>=0.8.1 in c:\\users\\bhyu\\appdata\\local\\programs\\python\\python35\\lib\\site-packages (from nbconvert->notebook>=4.4.1->widgetsnbextension~=3.5.0->ipywidgets<8,>=7.5.0->ipyleaflet) (0.8.4)\n",
      "Requirement already satisfied: defusedxml in c:\\users\\bhyu\\appdata\\local\\programs\\python\\python35\\lib\\site-packages (from nbconvert->notebook>=4.4.1->widgetsnbextension~=3.5.0->ipywidgets<8,>=7.5.0->ipyleaflet) (0.6.0)\n",
      "Requirement already satisfied: testpath in c:\\users\\bhyu\\appdata\\local\\programs\\python\\python35\\lib\\site-packages (from nbconvert->notebook>=4.4.1->widgetsnbextension~=3.5.0->ipywidgets<8,>=7.5.0->ipyleaflet) (0.4.4)\n",
      "Requirement already satisfied: entrypoints>=0.2.2 in c:\\users\\bhyu\\appdata\\local\\programs\\python\\python35\\lib\\site-packages (from nbconvert->notebook>=4.4.1->widgetsnbextension~=3.5.0->ipywidgets<8,>=7.5.0->ipyleaflet) (0.3)\n",
      "Requirement already satisfied: bleach in c:\\users\\bhyu\\appdata\\local\\programs\\python\\python35\\lib\\site-packages (from nbconvert->notebook>=4.4.1->widgetsnbextension~=3.5.0->ipywidgets<8,>=7.5.0->ipyleaflet) (3.1.5)\n",
      "Requirement already satisfied: pywinpty>=0.5; os_name == \"nt\" in c:\\users\\bhyu\\appdata\\local\\programs\\python\\python35\\lib\\site-packages (from terminado>=0.8.3->notebook>=4.4.1->widgetsnbextension~=3.5.0->ipywidgets<8,>=7.5.0->ipyleaflet) (0.5.7)\n",
      "Requirement already satisfied: cffi>=1.0.0 in c:\\users\\bhyu\\appdata\\local\\programs\\python\\python35\\lib\\site-packages (from argon2-cffi->notebook>=4.4.1->widgetsnbextension~=3.5.0->ipywidgets<8,>=7.5.0->ipyleaflet) (1.14.1)\n",
      "Requirement already satisfied: zipp>=0.5 in c:\\users\\bhyu\\appdata\\local\\programs\\python\\python35\\lib\\site-packages (from importlib-metadata; python_version < \"3.8\"->jsonschema!=2.5.0,>=2.4->nbformat>=4.2.0->ipywidgets<8,>=7.5.0->ipyleaflet) (1.2.0)\n",
      "Requirement already satisfied: packaging in c:\\users\\bhyu\\appdata\\local\\programs\\python\\python35\\lib\\site-packages (from bleach->nbconvert->notebook>=4.4.1->widgetsnbextension~=3.5.0->ipywidgets<8,>=7.5.0->ipyleaflet) (20.4)\n",
      "Requirement already satisfied: webencodings in c:\\users\\bhyu\\appdata\\local\\programs\\python\\python35\\lib\\site-packages (from bleach->nbconvert->notebook>=4.4.1->widgetsnbextension~=3.5.0->ipywidgets<8,>=7.5.0->ipyleaflet) (0.5.1)\n",
      "Requirement already satisfied: pycparser in c:\\users\\bhyu\\appdata\\local\\programs\\python\\python35\\lib\\site-packages (from cffi>=1.0.0->argon2-cffi->notebook>=4.4.1->widgetsnbextension~=3.5.0->ipywidgets<8,>=7.5.0->ipyleaflet) (2.20)\n",
      "Requirement already satisfied: pyparsing>=2.0.2 in c:\\users\\bhyu\\appdata\\local\\programs\\python\\python35\\lib\\site-packages (from packaging->bleach->nbconvert->notebook>=4.4.1->widgetsnbextension~=3.5.0->ipywidgets<8,>=7.5.0->ipyleaflet) (2.4.7)\n"
     ]
    }
   ],
   "source": [
    "# ipyleaflet 설치 | https://pypi.org/project/ipyleaflet/\n",
    "!pip install ipyleaflet"
   ]
  },
  {
   "cell_type": "code",
   "execution_count": 3,
   "metadata": {},
   "outputs": [
    {
     "data": {
      "application/vnd.jupyter.widget-view+json": {
       "model_id": "65d573b0f05341c5b143704ae4b911ac",
       "version_major": 2,
       "version_minor": 0
      },
      "text/plain": [
       "Map(center=[38, 127], controls=(ZoomControl(options=['position', 'zoom_out_title', 'zoom_in_text', 'zoom_in_ti…"
      ]
     },
     "metadata": {},
     "output_type": "display_data"
    }
   ],
   "source": [
    "# 지도 표시 (위도, 경도)\n",
    "m = Map(center=(38, 127), zoom=8)\n",
    "m"
   ]
  },
  {
   "cell_type": "code",
   "execution_count": 4,
   "metadata": {},
   "outputs": [
    {
     "data": {
      "application/vnd.jupyter.widget-view+json": {
       "model_id": "f4cbb98c32d746c8a1b43116c8e9cb09",
       "version_major": 2,
       "version_minor": 0
      },
      "text/plain": [
       "Map(center=[38, 127], controls=(ZoomControl(options=['position', 'zoom_out_title', 'zoom_in_text', 'zoom_in_ti…"
      ]
     },
     "metadata": {},
     "output_type": "display_data"
    }
   ],
   "source": [
    "# 기본지도 표시 (Esri WorldStreetMap)\n",
    "# https://github.com/jupyter-widgets/ipyleaflet/blob/master/ipyleaflet/basemaps.py\n",
    "m = Map(center=(38, 127), zoom=8, basemap=basemaps.Esri.WorldStreetMap)\n",
    "m"
   ]
  },
  {
   "cell_type": "code",
   "execution_count": 5,
   "metadata": {},
   "outputs": [
    {
     "data": {
      "application/vnd.jupyter.widget-view+json": {
       "model_id": "2424b89d651c45eab838473f9f9bd0f9",
       "version_major": 2,
       "version_minor": 0
      },
      "text/plain": [
       "Map(center=[38, 127], controls=(ZoomControl(options=['position', 'zoom_out_title', 'zoom_in_text', 'zoom_in_ti…"
      ]
     },
     "metadata": {},
     "output_type": "display_data"
    }
   ],
   "source": [
    "# 기본지도 표시 (Esri WorldImagery)\n",
    "# https://github.com/jupyter-widgets/ipyleaflet/blob/master/ipyleaflet/basemaps.py\n",
    "m = Map(center=(38, 127), zoom=8, basemap=basemaps.Esri.WorldImagery)\n",
    "m"
   ]
  },
  {
   "cell_type": "code",
   "execution_count": 7,
   "metadata": {},
   "outputs": [
    {
     "data": {
      "application/vnd.jupyter.widget-view+json": {
       "model_id": "98ce723849f14d1b823db8268c1d78b0",
       "version_major": 2,
       "version_minor": 0
      },
      "text/plain": [
       "Map(center=[37.569556, 126.995229], controls=(ZoomControl(options=['position', 'zoom_out_title', 'zoom_in_text…"
      ]
     },
     "metadata": {},
     "output_type": "display_data"
    }
   ],
   "source": [
    "# 지도 중심, 축척 조정\n",
    "center = [37.569556, 126.995229]; zoom = 18\n",
    "m = Map(center=center, zoom=zoom, basemap=basemaps.Esri.WorldImagery)\n",
    "m"
   ]
  },
  {
   "cell_type": "code",
   "execution_count": 8,
   "metadata": {},
   "outputs": [],
   "source": [
    "# TMS(Tile Map Service: 타일 지도 서비스) 사용자 정의\n",
    "# QGIS 3.4에서 Vworld 지도서비스 이용하기 | http://blog.daum.net/geoscience/1295\n",
    "VworldBase = TileLayer(\n",
    "    url='http://api.vworld.kr/req/wmts/1.0.0/D05C77C9-AB62-3E70-9183-0E044A461BBD/Base/{z}/{y}/{x}.png',\n",
    "    name='VworldBase'\n",
    ")\n",
    "VworldGray = TileLayer(\n",
    "    url='http://api.vworld.kr/req/wmts/1.0.0/D05C77C9-AB62-3E70-9183-0E044A461BBD/gray/{z}/{y}/{x}.png',\n",
    "    name='VworldGray'\n",
    ")\n",
    "VworldHybrid = TileLayer(\n",
    "    url='http://api.vworld.kr/req/wmts/1.0.0/D05C77C9-AB62-3E70-9183-0E044A461BBD/Hybrid/{z}/{y}/{x}.png',\n",
    "    name='VworldHybrid'\n",
    ")\n",
    "VworldMidnight = TileLayer(\n",
    "    url='http://api.vworld.kr/req/wmts/1.0.0/D05C77C9-AB62-3E70-9183-0E044A461BBD/midnight/{z}/{y}/{x}.png',\n",
    "    name='VworldMidnight'\n",
    ")\n",
    "VworldSatellite = TileLayer(\n",
    "    url='http://api.vworld.kr/req/wmts/1.0.0/D05C77C9-AB62-3E70-9183-0E044A461BBD/Satellite/{z}/{y}/{x}.jpeg',\n",
    "    name='VworldSatellite'\n",
    ")"
   ]
  },
  {
   "cell_type": "code",
   "execution_count": 9,
   "metadata": {},
   "outputs": [
    {
     "data": {
      "application/vnd.jupyter.widget-view+json": {
       "model_id": "14eb10fd94eb4fe4ad2aaf7cb2361ee7",
       "version_major": 2,
       "version_minor": 0
      },
      "text/plain": [
       "Map(center=[37.569556, 126.995229], controls=(ZoomControl(options=['position', 'zoom_out_title', 'zoom_in_text…"
      ]
     },
     "metadata": {},
     "output_type": "display_data"
    }
   ],
   "source": [
    "# 타일 레이어 추가(VworldBase)\n",
    "m = Map(center=center, zoom=zoom)\n",
    "m.add_layer(VworldBase)\n",
    "m"
   ]
  },
  {
   "cell_type": "code",
   "execution_count": 10,
   "metadata": {},
   "outputs": [
    {
     "data": {
      "application/vnd.jupyter.widget-view+json": {
       "model_id": "14eb10fd94eb4fe4ad2aaf7cb2361ee7",
       "version_major": 2,
       "version_minor": 0
      },
      "text/plain": [
       "Map(bottom=25987542.0, center=[37.569556, 126.995229], controls=(ZoomControl(options=['position', 'zoom_out_ti…"
      ]
     },
     "metadata": {},
     "output_type": "display_data"
    }
   ],
   "source": [
    "# 타일 레이어 추가(VworldSatellite, VworldHybrid)\n",
    "m.remove_layer(VworldBase)\n",
    "m.add_layer(VworldSatellite)\n",
    "m.add_layer(VworldHybrid)\n",
    "m"
   ]
  },
  {
   "cell_type": "code",
   "execution_count": 11,
   "metadata": {},
   "outputs": [
    {
     "data": {
      "application/vnd.jupyter.widget-view+json": {
       "model_id": "14eb10fd94eb4fe4ad2aaf7cb2361ee7",
       "version_major": 2,
       "version_minor": 0
      },
      "text/plain": [
       "Map(bottom=25987542.0, center=[37.569556, 126.995229], controls=(ZoomControl(options=['position', 'zoom_out_ti…"
      ]
     },
     "metadata": {},
     "output_type": "display_data"
    }
   ],
   "source": [
    "# 레이어 컨트롤 추가\n",
    "m.clear_layers()\n",
    "m.add_layer(VworldSatellite)     # 영상지도\n",
    "m.add_layer(VworldHybrid)        # 하이브리드지도\n",
    "m.add_layer(VworldMidnight)      # 야간지도\n",
    "m.add_layer(VworldGray)          # 회색지도\n",
    "m.add_layer(VworldBase)          # 배경지도\n",
    "m.add_control(LayersControl())\n",
    "m"
   ]
  },
  {
   "cell_type": "code",
   "execution_count": 12,
   "metadata": {},
   "outputs": [
    {
     "data": {
      "application/vnd.jupyter.widget-view+json": {
       "model_id": "352ef1ec2f97421aae76157cc155ef81",
       "version_major": 2,
       "version_minor": 0
      },
      "text/plain": [
       "Map(center=[37.569556, 126.995229], controls=(ZoomControl(options=['position', 'zoom_out_title', 'zoom_in_text…"
      ]
     },
     "metadata": {},
     "output_type": "display_data"
    }
   ],
   "source": [
    "# 분할지도 컨트롤 추가\n",
    "m = Map(center=center, zoom=zoom,\n",
    "        attribution_control=False) # 속성 컨트롤 해제\n",
    "left_layer = basemap_to_tiles(basemaps.Esri.WorldImagery)\n",
    "right_layer = VworldSatellite\n",
    "control = SplitMapControl(left_layer=left_layer, right_layer=right_layer)\n",
    "m.add_control(control)\n",
    "m"
   ]
  },
  {
   "cell_type": "code",
   "execution_count": 13,
   "metadata": {},
   "outputs": [
    {
     "data": {
      "application/vnd.jupyter.widget-view+json": {
       "model_id": "352ef1ec2f97421aae76157cc155ef81",
       "version_major": 2,
       "version_minor": 0
      },
      "text/plain": [
       "Map(bottom=25987542.0, center=[37.569556, 126.995229], controls=(ZoomControl(options=['position', 'zoom_out_ti…"
      ]
     },
     "metadata": {},
     "output_type": "display_data"
    }
   ],
   "source": [
    "# 전체화면 컨트롤 추가\n",
    "m.add_control(FullScreenControl())\n",
    "m"
   ]
  },
  {
   "cell_type": "code",
   "execution_count": 14,
   "metadata": {},
   "outputs": [
    {
     "data": {
      "application/vnd.jupyter.widget-view+json": {
       "model_id": "352ef1ec2f97421aae76157cc155ef81",
       "version_major": 2,
       "version_minor": 0
      },
      "text/plain": [
       "Map(bottom=25987542.0, center=[37.569556, 126.995229], controls=(ZoomControl(options=['position', 'zoom_out_ti…"
      ]
     },
     "metadata": {},
     "output_type": "display_data"
    }
   ],
   "source": [
    "# 마우스 휠 줌 추가\n",
    "m.scroll_wheel_zoom=True\n",
    "m"
   ]
  },
  {
   "cell_type": "code",
   "execution_count": 18,
   "metadata": {},
   "outputs": [
    {
     "data": {
      "application/vnd.jupyter.widget-view+json": {
       "model_id": "02d57574435147bd9c9167544c811ac9",
       "version_major": 2,
       "version_minor": 0
      },
      "text/plain": [
       "Map(center=[38.2, 128.2], controls=(ZoomControl(options=['position', 'zoom_out_title', 'zoom_in_text', 'zoom_i…"
      ]
     },
     "metadata": {},
     "output_type": "display_data"
    }
   ],
   "source": [
    "# 분할지도 컨트롤 추가\n",
    "# https://leaflet-extras.github.io/leaflet-providers/preview/\n",
    "center = [38.2, 128.2]; zoom = 9\n",
    "m = Map(center=center, zoom=zoom, attribution_control=False) # 속성 컨트롤 해제\n",
    "left_layer = basemap_to_tiles(basemaps.NASAGIBS.ModisTerraTrueColorCR, \"2009-09-01\")\n",
    "right_layer = basemap_to_tiles(basemaps.NASAGIBS.ModisTerraTrueColorCR, \"2019-09-18\")\n",
    "control = SplitMapControl(left_layer=left_layer, right_layer=right_layer)\n",
    "m.add_control(FullScreenControl())\n",
    "m.scroll_wheel_zoom=True\n",
    "m.add_control(control)\n",
    "m"
   ]
  },
  {
   "cell_type": "code",
   "execution_count": null,
   "metadata": {},
   "outputs": [],
   "source": []
  }
 ],
 "metadata": {
  "kernelspec": {
   "display_name": "Python 3",
   "language": "python",
   "name": "python3"
  },
  "language_info": {
   "codemirror_mode": {
    "name": "ipython",
    "version": 3
   },
   "file_extension": ".py",
   "mimetype": "text/x-python",
   "name": "python",
   "nbconvert_exporter": "python",
   "pygments_lexer": "ipython3",
   "version": "3.5.4"
  }
 },
 "nbformat": 4,
 "nbformat_minor": 2
}
