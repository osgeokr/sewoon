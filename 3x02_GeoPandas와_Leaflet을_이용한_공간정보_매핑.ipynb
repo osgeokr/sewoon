{
 "cells": [
  {
   "cell_type": "code",
   "execution_count": 1,
   "metadata": {},
   "outputs": [],
   "source": [
    "# 라이브러맃 추가\n",
    "from ipyleaflet import *\n",
    "import geopandas as gpd"
   ]
  },
  {
   "cell_type": "code",
   "execution_count": 2,
   "metadata": {},
   "outputs": [],
   "source": [
    "# TMS(Tile Map Service: 타일 지도 서비스) 사용자 정의\n",
    "# QGIS 3.4에서 Vworld 지도서비스 이용하기 | http://blog.daum.net/geoscience/1295\n",
    "VworldBase = TileLayer(\n",
    "    url='http://api.vworld.kr/req/wmts/1.0.0/D05C77C9-AB62-3E70-9183-0E044A461BBD/Base/{z}/{y}/{x}.png',\n",
    "    name='VworldBase'\n",
    ")\n",
    "VworldGray = TileLayer(\n",
    "    url='http://api.vworld.kr/req/wmts/1.0.0/D05C77C9-AB62-3E70-9183-0E044A461BBD/gray/{z}/{y}/{x}.png',\n",
    "    name='VworldGray'\n",
    ")\n",
    "VworldHybrid = TileLayer(\n",
    "    url='http://api.vworld.kr/req/wmts/1.0.0/D05C77C9-AB62-3E70-9183-0E044A461BBD/Hybrid/{z}/{y}/{x}.png',\n",
    "    name='VworldHybrid'\n",
    ")\n",
    "VworldMidnight = TileLayer(\n",
    "    url='http://api.vworld.kr/req/wmts/1.0.0/D05C77C9-AB62-3E70-9183-0E044A461BBD/midnight/{z}/{y}/{x}.png',\n",
    "    name='VworldMidnight'\n",
    ")\n",
    "VworldSatellite = TileLayer(\n",
    "    url='http://api.vworld.kr/req/wmts/1.0.0/D05C77C9-AB62-3E70-9183-0E044A461BBD/Satellite/{z}/{y}/{x}.jpeg',\n",
    "    name='VworldSatellite'\n",
    ")"
   ]
  },
  {
   "cell_type": "code",
   "execution_count": 3,
   "metadata": {},
   "outputs": [
    {
     "data": {
      "application/vnd.jupyter.widget-view+json": {
       "model_id": "359a743ce8134a79881ceba9e36a155d",
       "version_major": 2,
       "version_minor": 0
      },
      "text/plain": [
       "Map(center=[37.567392, 126.977862], controls=(ZoomControl(options=['zoom_in_title', 'zoom_out_title', 'zoom_ou…"
      ]
     },
     "metadata": {},
     "output_type": "display_data"
    }
   ],
   "source": [
    "# 지도 중심, 축척 조정\n",
    "center = [37.567392, 126.977862]; zoom = 5\n",
    "m = Map(center=center, zoom=zoom, attribution_control=False)\n",
    "m.add_layer(VworldSatellite)\n",
    "m.add_layer(VworldHybrid)\n",
    "m.add_control(FullScreenControl()); m.scroll_wheel_zoom=True\n",
    "m"
   ]
  },
  {
   "cell_type": "code",
   "execution_count": 5,
   "metadata": {},
   "outputs": [
    {
     "data": {
      "text/html": [
       "<div>\n",
       "<style scoped>\n",
       "    .dataframe tbody tr th:only-of-type {\n",
       "        vertical-align: middle;\n",
       "    }\n",
       "\n",
       "    .dataframe tbody tr th {\n",
       "        vertical-align: top;\n",
       "    }\n",
       "\n",
       "    .dataframe thead th {\n",
       "        text-align: right;\n",
       "    }\n",
       "</style>\n",
       "<table border=\"1\" class=\"dataframe\">\n",
       "  <thead>\n",
       "    <tr style=\"text-align: right;\">\n",
       "      <th></th>\n",
       "      <th>name</th>\n",
       "      <th>count</th>\n",
       "      <th>geometry</th>\n",
       "    </tr>\n",
       "  </thead>\n",
       "  <tbody>\n",
       "    <tr>\n",
       "      <th>0</th>\n",
       "      <td>Busan</td>\n",
       "      <td>325.0</td>\n",
       "      <td>MULTIPOLYGON (((128.99403 34.98180, 128.99403 ...</td>\n",
       "    </tr>\n",
       "    <tr>\n",
       "      <th>1</th>\n",
       "      <td>Chungcheongbuk-do</td>\n",
       "      <td>88.0</td>\n",
       "      <td>POLYGON ((128.01720 36.20695, 128.01471 36.199...</td>\n",
       "    </tr>\n",
       "    <tr>\n",
       "      <th>2</th>\n",
       "      <td>Chungcheongnam-do</td>\n",
       "      <td>255.0</td>\n",
       "      <td>MULTIPOLYGON (((126.61459 36.06736, 126.61459 ...</td>\n",
       "    </tr>\n",
       "    <tr>\n",
       "      <th>3</th>\n",
       "      <td>Daegu</td>\n",
       "      <td>283.0</td>\n",
       "      <td>POLYGON ((128.68794 35.68165, 128.67543 35.671...</td>\n",
       "    </tr>\n",
       "    <tr>\n",
       "      <th>4</th>\n",
       "      <td>Daejeon</td>\n",
       "      <td>189.0</td>\n",
       "      <td>POLYGON ((127.38995 36.20081, 127.38162 36.204...</td>\n",
       "    </tr>\n",
       "  </tbody>\n",
       "</table>\n",
       "</div>"
      ],
      "text/plain": [
       "                name  count                                           geometry\n",
       "0              Busan  325.0  MULTIPOLYGON (((128.99403 34.98180, 128.99403 ...\n",
       "1  Chungcheongbuk-do   88.0  POLYGON ((128.01720 36.20695, 128.01471 36.199...\n",
       "2  Chungcheongnam-do  255.0  MULTIPOLYGON (((126.61459 36.06736, 126.61459 ...\n",
       "3              Daegu  283.0  POLYGON ((128.68794 35.68165, 128.67543 35.671...\n",
       "4            Daejeon  189.0  POLYGON ((127.38995 36.20081, 127.38162 36.204..."
      ]
     },
     "execution_count": 5,
     "metadata": {},
     "output_type": "execute_result"
    }
   ],
   "source": [
    "# Shapefile 열기\n",
    "shapefile = 'D:\\GEODATA\\AML_HOSP_1.shp'\n",
    "gdf = gpd.read_file(shapefile)\n",
    "gdf.head()"
   ]
  },
  {
   "cell_type": "code",
   "execution_count": 6,
   "metadata": {},
   "outputs": [
    {
     "data": {
      "application/vnd.jupyter.widget-view+json": {
       "model_id": "359a743ce8134a79881ceba9e36a155d",
       "version_major": 2,
       "version_minor": 0
      },
      "text/plain": [
       "Map(bottom=3372.0, center=[37.567392, 126.977862], controls=(ZoomControl(options=['zoom_in_title', 'zoom_out_t…"
      ]
     },
     "metadata": {},
     "output_type": "display_data"
    }
   ],
   "source": [
    "# Shapefile 추가\n",
    "geo_data = GeoData(geo_dataframe = gdf,\n",
    "                   style={'color': 'black', 'fillColor': '#3366cc', 'opacity':0.05, 'weight':1.9, 'dashArray':'2', 'fillOpacity':0.6},\n",
    "                   hover_style={'fillColor': 'red' , 'fillOpacity': 0.5},\n",
    "                   name = 'name')\n",
    "m.add_layer(geo_data)\n",
    "m"
   ]
  },
  {
   "cell_type": "code",
   "execution_count": null,
   "metadata": {},
   "outputs": [],
   "source": []
  }
 ],
 "metadata": {
  "kernelspec": {
   "display_name": "Python 3",
   "language": "python",
   "name": "python3"
  },
  "language_info": {
   "codemirror_mode": {
    "name": "ipython",
    "version": 3
   },
   "file_extension": ".py",
   "mimetype": "text/x-python",
   "name": "python",
   "nbconvert_exporter": "python",
   "pygments_lexer": "ipython3",
   "version": "3.5.4"
  }
 },
 "nbformat": 4,
 "nbformat_minor": 2
}
