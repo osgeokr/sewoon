{
 "cells": [
  {
   "cell_type": "code",
   "execution_count": 1,
   "metadata": {},
   "outputs": [],
   "source": [
    "# 라이브러리 추가\n",
    "import geopandas as gpd\n",
    "import pandas as pd\n",
    "import matplotlib.pyplot as plt"
   ]
  },
  {
   "cell_type": "code",
   "execution_count": 2,
   "metadata": {},
   "outputs": [
    {
     "name": "stdout",
     "output_type": "stream",
     "text": [
      "Requirement already satisfied: geopandas in c:\\users\\bhyu\\appdata\\local\\programs\\python\\python35\\lib\\site-packages (0.8.1)\n",
      "Requirement already satisfied: pandas>=0.23.0 in c:\\users\\bhyu\\appdata\\local\\programs\\python\\python35\\lib\\site-packages (from geopandas) (0.25.3)\n",
      "Requirement already satisfied: shapely in c:\\users\\bhyu\\appdata\\local\\programs\\python\\python35\\lib\\site-packages (from geopandas) (1.6.4.post2)\n",
      "Requirement already satisfied: fiona in c:\\users\\bhyu\\appdata\\local\\programs\\python\\python35\\lib\\site-packages (from geopandas) (1.8.6)\n",
      "Requirement already satisfied: pyproj>=2.2.0 in c:\\users\\bhyu\\appdata\\local\\programs\\python\\python35\\lib\\site-packages (from geopandas) (2.4.2.post1)\n",
      "Requirement already satisfied: python-dateutil>=2.6.1 in c:\\users\\bhyu\\appdata\\local\\programs\\python\\python35\\lib\\site-packages (from pandas>=0.23.0->geopandas) (2.8.1)\n",
      "Requirement already satisfied: numpy>=1.13.3 in c:\\users\\bhyu\\appdata\\local\\programs\\python\\python35\\lib\\site-packages (from pandas>=0.23.0->geopandas) (1.18.5)\n",
      "Requirement already satisfied: pytz>=2017.2 in c:\\users\\bhyu\\appdata\\local\\programs\\python\\python35\\lib\\site-packages (from pandas>=0.23.0->geopandas) (2020.1)\n",
      "Requirement already satisfied: cligj>=0.5 in c:\\users\\bhyu\\appdata\\local\\programs\\python\\python35\\lib\\site-packages (from fiona->geopandas) (0.5.0)\n",
      "Requirement already satisfied: attrs>=17 in c:\\users\\bhyu\\appdata\\local\\programs\\python\\python35\\lib\\site-packages (from fiona->geopandas) (19.3.0)\n",
      "Requirement already satisfied: click-plugins>=1.0 in c:\\users\\bhyu\\appdata\\local\\programs\\python\\python35\\lib\\site-packages (from fiona->geopandas) (1.1.1)\n",
      "Requirement already satisfied: six>=1.7 in c:\\users\\bhyu\\appdata\\local\\programs\\python\\python35\\lib\\site-packages (from fiona->geopandas) (1.15.0)\n",
      "Requirement already satisfied: click>=4.0 in c:\\users\\bhyu\\appdata\\local\\programs\\python\\python35\\lib\\site-packages (from fiona->geopandas) (7.1.2)\n",
      "Requirement already satisfied: munch in c:\\users\\bhyu\\appdata\\local\\programs\\python\\python35\\lib\\site-packages (from fiona->geopandas) (2.5.0)\n"
     ]
    }
   ],
   "source": [
    "# GeoPandas 설치 | http://geopandas.org/\n",
    "!pip install geopandas"
   ]
  },
  {
   "cell_type": "code",
   "execution_count": 3,
   "metadata": {},
   "outputs": [
    {
     "name": "stdout",
     "output_type": "stream",
     "text": [
      "Requirement already satisfied: Shapely==1.6.4.post2 from file:///D:/GEODATA/Shapely-1.6.4.post2-cp35-cp35m-win_amd64.whl in c:\\users\\bhyu\\appdata\\local\\programs\\python\\python35\\lib\\site-packages (1.6.4.post2)\n"
     ]
    }
   ],
   "source": [
    "# shapely 설치 | https://www.lfd.uci.edu/~gohlke/pythonlibs/#shapely\n",
    "!pip install D:/GEODATA/Shapely-1.6.4.post2-cp35-cp35m-win_amd64.whl"
   ]
  },
  {
   "cell_type": "code",
   "execution_count": 4,
   "metadata": {},
   "outputs": [
    {
     "name": "stdout",
     "output_type": "stream",
     "text": [
      "Requirement already satisfied: Fiona==1.8.6 from file:///D:/GEODATA/Fiona-1.8.6-cp35-cp35m-win_amd64.whl in c:\\users\\bhyu\\appdata\\local\\programs\\python\\python35\\lib\\site-packages (1.8.6)\n",
      "Requirement already satisfied: click-plugins>=1.0 in c:\\users\\bhyu\\appdata\\local\\programs\\python\\python35\\lib\\site-packages (from Fiona==1.8.6) (1.1.1)\n",
      "Requirement already satisfied: cligj>=0.5 in c:\\users\\bhyu\\appdata\\local\\programs\\python\\python35\\lib\\site-packages (from Fiona==1.8.6) (0.5.0)\n",
      "Requirement already satisfied: munch in c:\\users\\bhyu\\appdata\\local\\programs\\python\\python35\\lib\\site-packages (from Fiona==1.8.6) (2.5.0)\n",
      "Requirement already satisfied: click>=4.0 in c:\\users\\bhyu\\appdata\\local\\programs\\python\\python35\\lib\\site-packages (from Fiona==1.8.6) (7.1.2)\n",
      "Requirement already satisfied: attrs>=17 in c:\\users\\bhyu\\appdata\\local\\programs\\python\\python35\\lib\\site-packages (from Fiona==1.8.6) (19.3.0)\n",
      "Requirement already satisfied: six>=1.7 in c:\\users\\bhyu\\appdata\\local\\programs\\python\\python35\\lib\\site-packages (from Fiona==1.8.6) (1.15.0)\n"
     ]
    }
   ],
   "source": [
    "# Fiona 설치 | https://www.lfd.uci.edu/~gohlke/pythonlibs/#fiona\n",
    "!pip install D:/GEODATA/Fiona-1.8.6-cp35-cp35m-win_amd64.whl"
   ]
  },
  {
   "cell_type": "code",
   "execution_count": 5,
   "metadata": {},
   "outputs": [
    {
     "name": "stdout",
     "output_type": "stream",
     "text": [
      "Requirement already satisfied: GDAL==2.4.1 from file:///D:/GEODATA/GDAL-2.4.1-cp35-cp35m-win_amd64.whl in c:\\users\\bhyu\\appdata\\local\\programs\\python\\python35\\lib\\site-packages (2.4.1)\n"
     ]
    }
   ],
   "source": [
    "# GDAL 설치 | https://www.lfd.uci.edu/~gohlke/pythonlibs/#gdal\n",
    "!pip install D:/GEODATA/GDAL-2.4.1-cp35-cp35m-win_amd64.whl"
   ]
  },
  {
   "cell_type": "code",
   "execution_count": 6,
   "metadata": {},
   "outputs": [
    {
     "name": "stdout",
     "output_type": "stream",
     "text": [
      "Requirement already satisfied: pyproj==2.4.2.post1 from file:///D:/GEODATA/pyproj-2.4.2.post1-cp35-cp35m-win_amd64.whl in c:\\users\\bhyu\\appdata\\local\\programs\\python\\python35\\lib\\site-packages (2.4.2.post1)\n"
     ]
    }
   ],
   "source": [
    "# pyproj 설치 | https://www.lfd.uci.edu/~gohlke/pythonlibs/#pyproj\n",
    "!pip install D:/GEODATA/pyproj-2.4.2.post1-cp35-cp35m-win_amd64.whl"
   ]
  },
  {
   "cell_type": "code",
   "execution_count": 7,
   "metadata": {},
   "outputs": [
    {
     "data": {
      "text/html": [
       "<div>\n",
       "<style scoped>\n",
       "    .dataframe tbody tr th:only-of-type {\n",
       "        vertical-align: middle;\n",
       "    }\n",
       "\n",
       "    .dataframe tbody tr th {\n",
       "        vertical-align: top;\n",
       "    }\n",
       "\n",
       "    .dataframe thead th {\n",
       "        text-align: right;\n",
       "    }\n",
       "</style>\n",
       "<table border=\"1\" class=\"dataframe\">\n",
       "  <thead>\n",
       "    <tr style=\"text-align: right;\">\n",
       "      <th></th>\n",
       "      <th>GID_0</th>\n",
       "      <th>NAME_0</th>\n",
       "      <th>GID_1</th>\n",
       "      <th>NAME_1</th>\n",
       "      <th>VARNAME_1</th>\n",
       "      <th>NL_NAME_1</th>\n",
       "      <th>TYPE_1</th>\n",
       "      <th>ENGTYPE_1</th>\n",
       "      <th>CC_1</th>\n",
       "      <th>HASC_1</th>\n",
       "      <th>geometry</th>\n",
       "    </tr>\n",
       "  </thead>\n",
       "  <tbody>\n",
       "    <tr>\n",
       "      <th>0</th>\n",
       "      <td>KOR</td>\n",
       "      <td>South Korea</td>\n",
       "      <td>KOR.1_1</td>\n",
       "      <td>Busan</td>\n",
       "      <td>Pusan|Busan Gwang'yeogsi|Pusan-gwangyoksi|Fusan</td>\n",
       "      <td>부산광역시 | 釜山廣域市</td>\n",
       "      <td>Gwangyeoksi</td>\n",
       "      <td>Metropolitan City</td>\n",
       "      <td>None</td>\n",
       "      <td>KR.PU</td>\n",
       "      <td>MULTIPOLYGON (((128.99403 34.98180, 128.99403 ...</td>\n",
       "    </tr>\n",
       "    <tr>\n",
       "      <th>1</th>\n",
       "      <td>KOR</td>\n",
       "      <td>South Korea</td>\n",
       "      <td>KOR.2_1</td>\n",
       "      <td>Chungcheongbuk-do</td>\n",
       "      <td>Chungchongbuk-Do|Chungcheongbugdo|Ch'ungch'ong...</td>\n",
       "      <td>충청북도 | 忠淸北道</td>\n",
       "      <td>Do</td>\n",
       "      <td>Province</td>\n",
       "      <td>None</td>\n",
       "      <td>KR.GB</td>\n",
       "      <td>POLYGON ((128.01720 36.20695, 128.01471 36.199...</td>\n",
       "    </tr>\n",
       "    <tr>\n",
       "      <th>2</th>\n",
       "      <td>KOR</td>\n",
       "      <td>South Korea</td>\n",
       "      <td>KOR.3_1</td>\n",
       "      <td>Chungcheongnam-do</td>\n",
       "      <td>Chungchongnam-Do|Ch'ungch'ong-namdo|Chusei Nan...</td>\n",
       "      <td>충청남도 | 忠淸南道</td>\n",
       "      <td>Do</td>\n",
       "      <td>Province</td>\n",
       "      <td>None</td>\n",
       "      <td>KR.GN</td>\n",
       "      <td>MULTIPOLYGON (((126.61459 36.06736, 126.61459 ...</td>\n",
       "    </tr>\n",
       "    <tr>\n",
       "      <th>3</th>\n",
       "      <td>KOR</td>\n",
       "      <td>South Korea</td>\n",
       "      <td>KOR.4_1</td>\n",
       "      <td>Daegu</td>\n",
       "      <td>Taegu|Daegu Gwang'yeogsi|Taegu-gwangyoksi|Taikyu</td>\n",
       "      <td>대구광역시 | 大邱廣域市</td>\n",
       "      <td>Gwangyeoksi</td>\n",
       "      <td>Metropolitan City</td>\n",
       "      <td>None</td>\n",
       "      <td>KR.TG</td>\n",
       "      <td>POLYGON ((128.68794 35.68165, 128.67543 35.671...</td>\n",
       "    </tr>\n",
       "    <tr>\n",
       "      <th>4</th>\n",
       "      <td>KOR</td>\n",
       "      <td>South Korea</td>\n",
       "      <td>KOR.5_1</td>\n",
       "      <td>Daejeon</td>\n",
       "      <td>Daejeon Gwang'yeogsi|Taejŏn-gwangyŏksi|Taiden</td>\n",
       "      <td>대구광역시 | 大邱廣域市</td>\n",
       "      <td>Gwangyeoksi</td>\n",
       "      <td>Metropolitan City</td>\n",
       "      <td>None</td>\n",
       "      <td>KR.TJ</td>\n",
       "      <td>POLYGON ((127.38995 36.20081, 127.38162 36.204...</td>\n",
       "    </tr>\n",
       "  </tbody>\n",
       "</table>\n",
       "</div>"
      ],
      "text/plain": [
       "  GID_0       NAME_0    GID_1             NAME_1  \\\n",
       "0   KOR  South Korea  KOR.1_1              Busan   \n",
       "1   KOR  South Korea  KOR.2_1  Chungcheongbuk-do   \n",
       "2   KOR  South Korea  KOR.3_1  Chungcheongnam-do   \n",
       "3   KOR  South Korea  KOR.4_1              Daegu   \n",
       "4   KOR  South Korea  KOR.5_1            Daejeon   \n",
       "\n",
       "                                           VARNAME_1      NL_NAME_1  \\\n",
       "0    Pusan|Busan Gwang'yeogsi|Pusan-gwangyoksi|Fusan  부산광역시 | 釜山廣域市   \n",
       "1  Chungchongbuk-Do|Chungcheongbugdo|Ch'ungch'ong...    충청북도 | 忠淸北道   \n",
       "2  Chungchongnam-Do|Ch'ungch'ong-namdo|Chusei Nan...    충청남도 | 忠淸南道   \n",
       "3   Taegu|Daegu Gwang'yeogsi|Taegu-gwangyoksi|Taikyu  대구광역시 | 大邱廣域市   \n",
       "4      Daejeon Gwang'yeogsi|Taejŏn-gwangyŏksi|Taiden  대구광역시 | 大邱廣域市   \n",
       "\n",
       "        TYPE_1          ENGTYPE_1  CC_1 HASC_1  \\\n",
       "0  Gwangyeoksi  Metropolitan City  None  KR.PU   \n",
       "1           Do           Province  None  KR.GB   \n",
       "2           Do           Province  None  KR.GN   \n",
       "3  Gwangyeoksi  Metropolitan City  None  KR.TG   \n",
       "4  Gwangyeoksi  Metropolitan City  None  KR.TJ   \n",
       "\n",
       "                                            geometry  \n",
       "0  MULTIPOLYGON (((128.99403 34.98180, 128.99403 ...  \n",
       "1  POLYGON ((128.01720 36.20695, 128.01471 36.199...  \n",
       "2  MULTIPOLYGON (((126.61459 36.06736, 126.61459 ...  \n",
       "3  POLYGON ((128.68794 35.68165, 128.67543 35.671...  \n",
       "4  POLYGON ((127.38995 36.20081, 127.38162 36.204...  "
      ]
     },
     "execution_count": 7,
     "metadata": {},
     "output_type": "execute_result"
    }
   ],
   "source": [
    "# 시도경계 Shapefile 열기\n",
    "# 전세계 국가 및 구역별 공간데이터 제공 'GADM' 소개 | http://blog.daum.net/geoscience/1257\n",
    "shapefile = 'D:\\GEODATA\\gadm36_KOR_1.shp'\n",
    "gdf = gpd.read_file(shapefile)\n",
    "gdf.head()"
   ]
  },
  {
   "cell_type": "code",
   "execution_count": 8,
   "metadata": {},
   "outputs": [
    {
     "data": {
      "text/html": [
       "<div>\n",
       "<style scoped>\n",
       "    .dataframe tbody tr th:only-of-type {\n",
       "        vertical-align: middle;\n",
       "    }\n",
       "\n",
       "    .dataframe tbody tr th {\n",
       "        vertical-align: top;\n",
       "    }\n",
       "\n",
       "    .dataframe thead th {\n",
       "        text-align: right;\n",
       "    }\n",
       "</style>\n",
       "<table border=\"1\" class=\"dataframe\">\n",
       "  <thead>\n",
       "    <tr style=\"text-align: right;\">\n",
       "      <th></th>\n",
       "      <th>name</th>\n",
       "      <th>geometry</th>\n",
       "    </tr>\n",
       "  </thead>\n",
       "  <tbody>\n",
       "    <tr>\n",
       "      <th>0</th>\n",
       "      <td>Busan</td>\n",
       "      <td>MULTIPOLYGON (((128.99403 34.98180, 128.99403 ...</td>\n",
       "    </tr>\n",
       "    <tr>\n",
       "      <th>1</th>\n",
       "      <td>Chungcheongbuk-do</td>\n",
       "      <td>POLYGON ((128.01720 36.20695, 128.01471 36.199...</td>\n",
       "    </tr>\n",
       "    <tr>\n",
       "      <th>2</th>\n",
       "      <td>Chungcheongnam-do</td>\n",
       "      <td>MULTIPOLYGON (((126.61459 36.06736, 126.61459 ...</td>\n",
       "    </tr>\n",
       "    <tr>\n",
       "      <th>3</th>\n",
       "      <td>Daegu</td>\n",
       "      <td>POLYGON ((128.68794 35.68165, 128.67543 35.671...</td>\n",
       "    </tr>\n",
       "    <tr>\n",
       "      <th>4</th>\n",
       "      <td>Daejeon</td>\n",
       "      <td>POLYGON ((127.38995 36.20081, 127.38162 36.204...</td>\n",
       "    </tr>\n",
       "  </tbody>\n",
       "</table>\n",
       "</div>"
      ],
      "text/plain": [
       "                name                                           geometry\n",
       "0              Busan  MULTIPOLYGON (((128.99403 34.98180, 128.99403 ...\n",
       "1  Chungcheongbuk-do  POLYGON ((128.01720 36.20695, 128.01471 36.199...\n",
       "2  Chungcheongnam-do  MULTIPOLYGON (((126.61459 36.06736, 126.61459 ...\n",
       "3              Daegu  POLYGON ((128.68794 35.68165, 128.67543 35.671...\n",
       "4            Daejeon  POLYGON ((127.38995 36.20081, 127.38162 36.204..."
      ]
     },
     "execution_count": 8,
     "metadata": {},
     "output_type": "execute_result"
    }
   ],
   "source": [
    "# 시도경계 Shapefile에서 컬럼 선별하기\n",
    "gdf = gpd.read_file(shapefile)[['NAME_1', 'geometry']]\n",
    "gdf.columns = ['name', 'geometry']\n",
    "gdf.head()"
   ]
  },
  {
   "cell_type": "code",
   "execution_count": 9,
   "metadata": {},
   "outputs": [
    {
     "data": {
      "text/plain": [
       "array(['Busan', 'Chungcheongbuk-do', 'Chungcheongnam-do', 'Daegu',\n",
       "       'Daejeon', 'Gangwon-do', 'Gwangju', 'Gyeonggi-do',\n",
       "       'Gyeongsangbuk-do', 'Gyeongsangnam-do', 'Incheon', 'Jeju',\n",
       "       'Jeollabuk-do', 'Jeollanam-do', 'Sejong', 'Seoul', 'Ulsan'],\n",
       "      dtype=object)"
      ]
     },
     "execution_count": 9,
     "metadata": {},
     "output_type": "execute_result"
    }
   ],
   "source": [
    "# 컬럼 고유값\n",
    "gdf['name'].unique()"
   ]
  },
  {
   "cell_type": "code",
   "execution_count": 10,
   "metadata": {},
   "outputs": [
    {
     "data": {
      "image/png": "[encoded data removed]",
      "text/plain": [
       "<Figure size 1152x576 with 1 Axes>"
      ]
     },
     "metadata": {
      "needs_background": "light"
     },
     "output_type": "display_data"
    }
   ],
   "source": [
    "# 공간정보 지도화\n",
    "gdf.plot(figsize=(16, 8))\n",
    "plt.savefig('D:/GEODATA/IMG01.png', bbox_inches='tight')"
   ]
  },
  {
   "cell_type": "code",
   "execution_count": 11,
   "metadata": {},
   "outputs": [
    {
     "name": "stdout",
     "output_type": "stream",
     "text": [
      "Requirement already satisfied: descartes in c:\\users\\bhyu\\appdata\\local\\programs\\python\\python35\\lib\\site-packages (1.1.0)\n",
      "Requirement already satisfied: matplotlib in c:\\users\\bhyu\\appdata\\local\\programs\\python\\python35\\lib\\site-packages (from descartes) (3.0.3)\n",
      "Requirement already satisfied: python-dateutil>=2.1 in c:\\users\\bhyu\\appdata\\local\\programs\\python\\python35\\lib\\site-packages (from matplotlib->descartes) (2.8.1)\n",
      "Requirement already satisfied: numpy>=1.10.0 in c:\\users\\bhyu\\appdata\\local\\programs\\python\\python35\\lib\\site-packages (from matplotlib->descartes) (1.18.5)\n",
      "Requirement already satisfied: kiwisolver>=1.0.1 in c:\\users\\bhyu\\appdata\\local\\programs\\python\\python35\\lib\\site-packages (from matplotlib->descartes) (1.1.0)\n",
      "Requirement already satisfied: pyparsing!=2.0.4,!=2.1.2,!=2.1.6,>=2.0.1 in c:\\users\\bhyu\\appdata\\local\\programs\\python\\python35\\lib\\site-packages (from matplotlib->descartes) (2.4.7)\n",
      "Requirement already satisfied: cycler>=0.10 in c:\\users\\bhyu\\appdata\\local\\programs\\python\\python35\\lib\\site-packages (from matplotlib->descartes) (0.10.0)\n",
      "Requirement already satisfied: six>=1.5 in c:\\users\\bhyu\\appdata\\local\\programs\\python\\python35\\lib\\site-packages (from python-dateutil>=2.1->matplotlib->descartes) (1.15.0)\n",
      "Requirement already satisfied: setuptools in c:\\users\\bhyu\\appdata\\local\\programs\\python\\python35\\lib\\site-packages (from kiwisolver>=1.0.1->matplotlib->descartes) (28.8.0)\n"
     ]
    }
   ],
   "source": [
    "# descartes 설치\n",
    "!pip install descartes"
   ]
  },
  {
   "cell_type": "code",
   "execution_count": 12,
   "metadata": {},
   "outputs": [
    {
     "data": {
      "text/plain": [
       "array(['Busan', 'Chungcheongbuk-do', 'Chungcheongnam-do', 'Daegu',\n",
       "       'Daejeon', 'Gangwon-do', 'Gwangju', 'Gyeonggi-do',\n",
       "       'Gyeongsangbuk-do', 'Gyeongsangnam-do', 'Incheon', 'Jeju',\n",
       "       'Jeollabuk-do', 'Jeollanam-do', 'Seoul', 'Ulsan', nan],\n",
       "      dtype=object)"
      ]
     },
     "execution_count": 12,
     "metadata": {},
     "output_type": "execute_result"
    }
   ],
   "source": [
    "# '동물병원' 데이터프레임 열기\n",
    "df = pd.read_excel('D:/GEODATA/AML_HOSP.xlsx', sheet_name='AML_HOSP',\n",
    "                   index_col='인허가일자', parse_dates=True, axis=1)[['NAME', '사업장명']]\n",
    "df.columns = ['name', '사업장명']\n",
    "\n",
    "# 컬럼 고유값\n",
    "df['name'].unique()"
   ]
  },
  {
   "cell_type": "code",
   "execution_count": 13,
   "metadata": {},
   "outputs": [
    {
     "data": {
      "text/html": [
       "<div>\n",
       "<style scoped>\n",
       "    .dataframe tbody tr th:only-of-type {\n",
       "        vertical-align: middle;\n",
       "    }\n",
       "\n",
       "    .dataframe tbody tr th {\n",
       "        vertical-align: top;\n",
       "    }\n",
       "\n",
       "    .dataframe thead th {\n",
       "        text-align: right;\n",
       "    }\n",
       "</style>\n",
       "<table border=\"1\" class=\"dataframe\">\n",
       "  <thead>\n",
       "    <tr style=\"text-align: right;\">\n",
       "      <th></th>\n",
       "      <th>name</th>\n",
       "      <th>count</th>\n",
       "    </tr>\n",
       "  </thead>\n",
       "  <tbody>\n",
       "    <tr>\n",
       "      <th>7</th>\n",
       "      <td>Gyeonggi-do</td>\n",
       "      <td>1664</td>\n",
       "    </tr>\n",
       "    <tr>\n",
       "      <th>14</th>\n",
       "      <td>Seoul</td>\n",
       "      <td>1652</td>\n",
       "    </tr>\n",
       "    <tr>\n",
       "      <th>9</th>\n",
       "      <td>Gyeongsangnam-do</td>\n",
       "      <td>422</td>\n",
       "    </tr>\n",
       "    <tr>\n",
       "      <th>10</th>\n",
       "      <td>Incheon</td>\n",
       "      <td>396</td>\n",
       "    </tr>\n",
       "    <tr>\n",
       "      <th>8</th>\n",
       "      <td>Gyeongsangbuk-do</td>\n",
       "      <td>329</td>\n",
       "    </tr>\n",
       "    <tr>\n",
       "      <th>0</th>\n",
       "      <td>Busan</td>\n",
       "      <td>325</td>\n",
       "    </tr>\n",
       "    <tr>\n",
       "      <th>3</th>\n",
       "      <td>Daegu</td>\n",
       "      <td>283</td>\n",
       "    </tr>\n",
       "    <tr>\n",
       "      <th>2</th>\n",
       "      <td>Chungcheongnam-do</td>\n",
       "      <td>255</td>\n",
       "    </tr>\n",
       "    <tr>\n",
       "      <th>12</th>\n",
       "      <td>Jeollabuk-do</td>\n",
       "      <td>247</td>\n",
       "    </tr>\n",
       "    <tr>\n",
       "      <th>13</th>\n",
       "      <td>Jeollanam-do</td>\n",
       "      <td>217</td>\n",
       "    </tr>\n",
       "    <tr>\n",
       "      <th>4</th>\n",
       "      <td>Daejeon</td>\n",
       "      <td>189</td>\n",
       "    </tr>\n",
       "    <tr>\n",
       "      <th>5</th>\n",
       "      <td>Gangwon-do</td>\n",
       "      <td>178</td>\n",
       "    </tr>\n",
       "    <tr>\n",
       "      <th>6</th>\n",
       "      <td>Gwangju</td>\n",
       "      <td>152</td>\n",
       "    </tr>\n",
       "    <tr>\n",
       "      <th>11</th>\n",
       "      <td>Jeju</td>\n",
       "      <td>111</td>\n",
       "    </tr>\n",
       "    <tr>\n",
       "      <th>15</th>\n",
       "      <td>Ulsan</td>\n",
       "      <td>101</td>\n",
       "    </tr>\n",
       "    <tr>\n",
       "      <th>1</th>\n",
       "      <td>Chungcheongbuk-do</td>\n",
       "      <td>88</td>\n",
       "    </tr>\n",
       "  </tbody>\n",
       "</table>\n",
       "</div>"
      ],
      "text/plain": [
       "                 name  count\n",
       "7         Gyeonggi-do   1664\n",
       "14              Seoul   1652\n",
       "9    Gyeongsangnam-do    422\n",
       "10            Incheon    396\n",
       "8    Gyeongsangbuk-do    329\n",
       "0               Busan    325\n",
       "3               Daegu    283\n",
       "2   Chungcheongnam-do    255\n",
       "12       Jeollabuk-do    247\n",
       "13       Jeollanam-do    217\n",
       "4             Daejeon    189\n",
       "5          Gangwon-do    178\n",
       "6             Gwangju    152\n",
       "11               Jeju    111\n",
       "15              Ulsan    101\n",
       "1   Chungcheongbuk-do     88"
      ]
     },
     "execution_count": 13,
     "metadata": {},
     "output_type": "execute_result"
    }
   ],
   "source": [
    "# 시도경계별 동물병원 개수\n",
    "df = df.groupby(df['name']).size().reset_index(name='count')\n",
    "df = df.sort_values(by='count', ascending=False)\n",
    "df"
   ]
  },
  {
   "cell_type": "code",
   "execution_count": 14,
   "metadata": {},
   "outputs": [
    {
     "data": {
      "text/html": [
       "<div>\n",
       "<style scoped>\n",
       "    .dataframe tbody tr th:only-of-type {\n",
       "        vertical-align: middle;\n",
       "    }\n",
       "\n",
       "    .dataframe tbody tr th {\n",
       "        vertical-align: top;\n",
       "    }\n",
       "\n",
       "    .dataframe thead th {\n",
       "        text-align: right;\n",
       "    }\n",
       "</style>\n",
       "<table border=\"1\" class=\"dataframe\">\n",
       "  <thead>\n",
       "    <tr style=\"text-align: right;\">\n",
       "      <th></th>\n",
       "      <th>name</th>\n",
       "      <th>geometry</th>\n",
       "      <th>count</th>\n",
       "    </tr>\n",
       "  </thead>\n",
       "  <tbody>\n",
       "    <tr>\n",
       "      <th>0</th>\n",
       "      <td>Busan</td>\n",
       "      <td>MULTIPOLYGON (((128.99403 34.98180, 128.99403 ...</td>\n",
       "      <td>325.0</td>\n",
       "    </tr>\n",
       "    <tr>\n",
       "      <th>1</th>\n",
       "      <td>Chungcheongbuk-do</td>\n",
       "      <td>POLYGON ((128.01720 36.20695, 128.01471 36.199...</td>\n",
       "      <td>88.0</td>\n",
       "    </tr>\n",
       "    <tr>\n",
       "      <th>2</th>\n",
       "      <td>Chungcheongnam-do</td>\n",
       "      <td>MULTIPOLYGON (((126.61459 36.06736, 126.61459 ...</td>\n",
       "      <td>255.0</td>\n",
       "    </tr>\n",
       "    <tr>\n",
       "      <th>3</th>\n",
       "      <td>Daegu</td>\n",
       "      <td>POLYGON ((128.68794 35.68165, 128.67543 35.671...</td>\n",
       "      <td>283.0</td>\n",
       "    </tr>\n",
       "    <tr>\n",
       "      <th>4</th>\n",
       "      <td>Daejeon</td>\n",
       "      <td>POLYGON ((127.38995 36.20081, 127.38162 36.204...</td>\n",
       "      <td>189.0</td>\n",
       "    </tr>\n",
       "    <tr>\n",
       "      <th>5</th>\n",
       "      <td>Gangwon-do</td>\n",
       "      <td>MULTIPOLYGON (((129.32625 37.28597, 129.32625 ...</td>\n",
       "      <td>178.0</td>\n",
       "    </tr>\n",
       "    <tr>\n",
       "      <th>6</th>\n",
       "      <td>Gwangju</td>\n",
       "      <td>POLYGON ((127.01669 35.10629, 127.01091 35.094...</td>\n",
       "      <td>152.0</td>\n",
       "    </tr>\n",
       "    <tr>\n",
       "      <th>7</th>\n",
       "      <td>Gyeonggi-do</td>\n",
       "      <td>MULTIPOLYGON (((126.72736 37.01403, 126.72736 ...</td>\n",
       "      <td>1664.0</td>\n",
       "    </tr>\n",
       "    <tr>\n",
       "      <th>8</th>\n",
       "      <td>Gyeongsangbuk-do</td>\n",
       "      <td>MULTIPOLYGON (((129.42291 36.01875, 129.42291 ...</td>\n",
       "      <td>329.0</td>\n",
       "    </tr>\n",
       "    <tr>\n",
       "      <th>9</th>\n",
       "      <td>Gyeongsangnam-do</td>\n",
       "      <td>MULTIPOLYGON (((128.73097 34.53931, 128.73097 ...</td>\n",
       "      <td>422.0</td>\n",
       "    </tr>\n",
       "    <tr>\n",
       "      <th>10</th>\n",
       "      <td>Incheon</td>\n",
       "      <td>MULTIPOLYGON (((129.03375 35.08601, 129.03375 ...</td>\n",
       "      <td>396.0</td>\n",
       "    </tr>\n",
       "    <tr>\n",
       "      <th>11</th>\n",
       "      <td>Jeju</td>\n",
       "      <td>MULTIPOLYGON (((126.26930 33.12486, 126.26930 ...</td>\n",
       "      <td>111.0</td>\n",
       "    </tr>\n",
       "    <tr>\n",
       "      <th>12</th>\n",
       "      <td>Jeollabuk-do</td>\n",
       "      <td>MULTIPOLYGON (((126.23402 35.58625, 126.23402 ...</td>\n",
       "      <td>247.0</td>\n",
       "    </tr>\n",
       "    <tr>\n",
       "      <th>13</th>\n",
       "      <td>Jeollanam-do</td>\n",
       "      <td>MULTIPOLYGON (((126.35736 33.73069, 126.35736 ...</td>\n",
       "      <td>217.0</td>\n",
       "    </tr>\n",
       "    <tr>\n",
       "      <th>14</th>\n",
       "      <td>Sejong</td>\n",
       "      <td>POLYGON ((127.26335 36.39206, 127.26129 36.400...</td>\n",
       "      <td>0.0</td>\n",
       "    </tr>\n",
       "    <tr>\n",
       "      <th>15</th>\n",
       "      <td>Seoul</td>\n",
       "      <td>POLYGON ((126.91203 37.43707, 126.90575 37.437...</td>\n",
       "      <td>1652.0</td>\n",
       "    </tr>\n",
       "    <tr>\n",
       "      <th>16</th>\n",
       "      <td>Ulsan</td>\n",
       "      <td>MULTIPOLYGON (((129.35153 35.38708, 129.35153 ...</td>\n",
       "      <td>101.0</td>\n",
       "    </tr>\n",
       "  </tbody>\n",
       "</table>\n",
       "</div>"
      ],
      "text/plain": [
       "                 name                                           geometry  \\\n",
       "0               Busan  MULTIPOLYGON (((128.99403 34.98180, 128.99403 ...   \n",
       "1   Chungcheongbuk-do  POLYGON ((128.01720 36.20695, 128.01471 36.199...   \n",
       "2   Chungcheongnam-do  MULTIPOLYGON (((126.61459 36.06736, 126.61459 ...   \n",
       "3               Daegu  POLYGON ((128.68794 35.68165, 128.67543 35.671...   \n",
       "4             Daejeon  POLYGON ((127.38995 36.20081, 127.38162 36.204...   \n",
       "5          Gangwon-do  MULTIPOLYGON (((129.32625 37.28597, 129.32625 ...   \n",
       "6             Gwangju  POLYGON ((127.01669 35.10629, 127.01091 35.094...   \n",
       "7         Gyeonggi-do  MULTIPOLYGON (((126.72736 37.01403, 126.72736 ...   \n",
       "8    Gyeongsangbuk-do  MULTIPOLYGON (((129.42291 36.01875, 129.42291 ...   \n",
       "9    Gyeongsangnam-do  MULTIPOLYGON (((128.73097 34.53931, 128.73097 ...   \n",
       "10            Incheon  MULTIPOLYGON (((129.03375 35.08601, 129.03375 ...   \n",
       "11               Jeju  MULTIPOLYGON (((126.26930 33.12486, 126.26930 ...   \n",
       "12       Jeollabuk-do  MULTIPOLYGON (((126.23402 35.58625, 126.23402 ...   \n",
       "13       Jeollanam-do  MULTIPOLYGON (((126.35736 33.73069, 126.35736 ...   \n",
       "14             Sejong  POLYGON ((127.26335 36.39206, 127.26129 36.400...   \n",
       "15              Seoul  POLYGON ((126.91203 37.43707, 126.90575 37.437...   \n",
       "16              Ulsan  MULTIPOLYGON (((129.35153 35.38708, 129.35153 ...   \n",
       "\n",
       "     count  \n",
       "0    325.0  \n",
       "1     88.0  \n",
       "2    255.0  \n",
       "3    283.0  \n",
       "4    189.0  \n",
       "5    178.0  \n",
       "6    152.0  \n",
       "7   1664.0  \n",
       "8    329.0  \n",
       "9    422.0  \n",
       "10   396.0  \n",
       "11   111.0  \n",
       "12   247.0  \n",
       "13   217.0  \n",
       "14     0.0  \n",
       "15  1652.0  \n",
       "16   101.0  "
      ]
     },
     "execution_count": 14,
     "metadata": {},
     "output_type": "execute_result"
    }
   ],
   "source": [
    "# 2개 데이터프레임을 병합\n",
    "gdf = gdf.merge(df, on='name', how='outer').fillna(0)\n",
    "gdf"
   ]
  },
  {
   "cell_type": "code",
   "execution_count": 15,
   "metadata": {},
   "outputs": [],
   "source": [
    "# Shapefile로 저장\n",
    "gdf.to_file(\"D:/GEODATA/AML_HOSP_1.shp\")"
   ]
  },
  {
   "cell_type": "code",
   "execution_count": null,
   "metadata": {},
   "outputs": [],
   "source": []
  }
 ],
 "metadata": {
  "kernelspec": {
   "display_name": "Python 3",
   "language": "python",
   "name": "python3"
  },
  "language_info": {
   "codemirror_mode": {
    "name": "ipython",
    "version": 3
   },
   "file_extension": ".py",
   "mimetype": "text/x-python",
   "name": "python",
   "nbconvert_exporter": "python",
   "pygments_lexer": "ipython3",
   "version": "3.5.4"
  }
 },
 "nbformat": 4,
 "nbformat_minor": 2
}
